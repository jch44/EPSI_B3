{
 "cells": [
  {
   "cell_type": "markdown",
   "metadata": {},
   "source": [
    "# Exemples de fonctions Pandas utiles pour le TP 1"
   ]
  },
  {
   "cell_type": "markdown",
   "metadata": {},
   "source": [
    "## Importations des librairies utiles"
   ]
  },
  {
   "cell_type": "code",
   "execution_count": null,
   "metadata": {},
   "outputs": [],
   "source": [
    "import numpy as np\n",
    "import pandas as pd\n",
    "import os\n",
    "import matplotlib.pyplot as plt\n",
    "from sklearn.linear_model import LinearRegression\n",
    "from sklearn.feature_selection import mutual_info_regression\n",
    "from sklearn.metrics import mean_squared_error, r2_score\n",
    "print('numpy %s, pandas %s'%(np.__version__,pd.__version__))\n",
    "print(os.getcwd())\n"
   ]
  },
  {
   "cell_type": "markdown",
   "metadata": {},
   "source": [
    "## Creation depuis un CSV et affichage d'un Dataframe Pandas"
   ]
  },
  {
   "cell_type": "code",
   "execution_count": null,
   "metadata": {},
   "outputs": [],
   "source": [
    "my_dataframe = pd.read_csv('data/iris.csv')\n",
    "my_dataframe\n",
    "# display(my_dataframe)\n",
    "# print(\"fin\")\n"
   ]
  },
  {
   "attachments": {},
   "cell_type": "markdown",
   "metadata": {},
   "source": [
    "## Transformation de l'ID en index"
   ]
  },
  {
   "cell_type": "code",
   "execution_count": null,
   "metadata": {},
   "outputs": [],
   "source": [
    "my_dataframe.set_index('id_Iris',inplace=True)\n",
    "my_dataframe\n"
   ]
  },
  {
   "cell_type": "markdown",
   "metadata": {},
   "source": [
    "## Tri selon l'index"
   ]
  },
  {
   "cell_type": "code",
   "execution_count": null,
   "metadata": {},
   "outputs": [],
   "source": [
    "my_dataframe.sort_index(inplace=True) #Inplace permet de conserver les modification du DataFrame\n",
    "my_dataframe\n"
   ]
  },
  {
   "attachments": {},
   "cell_type": "markdown",
   "metadata": {},
   "source": [
    "## Exploration des données / Importance des Features"
   ]
  },
  {
   "cell_type": "code",
   "execution_count": null,
   "metadata": {},
   "outputs": [],
   "source": [
    "my_dataframe.info()\n"
   ]
  },
  {
   "cell_type": "code",
   "execution_count": null,
   "metadata": {},
   "outputs": [],
   "source": [
    "my_dataframe.describe()\n"
   ]
  },
  {
   "cell_type": "code",
   "execution_count": null,
   "metadata": {},
   "outputs": [],
   "source": [
    "# Calcul du quantile 0.9 (90% des valeurs sont dessous)\n",
    "my_dataframe.quantile(0.9)\n"
   ]
  },
  {
   "attachments": {},
   "cell_type": "markdown",
   "metadata": {},
   "source": [
    "### Création de catégories pour les tailles et ajout du nom de l'iris"
   ]
  },
  {
   "cell_type": "code",
   "execution_count": null,
   "metadata": {},
   "outputs": [],
   "source": [
    "# Créer une catégorie à partir des dimensions en cm\n",
    "for taille in [\"Longueur Sépale (cm)\",\"Largeur Sépale (cm)\",\"Longueur Pétale (cm)\",\"Largeur Pétale (cm)\"]:\n",
    "    my_dataframe[taille.replace(\" (cm)\",\"\")] = pd.qcut(my_dataframe[taille],3,['petit','moyen','grand'])\n",
    "\n",
    "# Ajouter le dnom d'Iris à partir des dimensions en cm\n",
    "my_dataframe['Nom Iris'] = my_dataframe['Type Iris'].map({\n",
    "    0:'Setosa',\n",
    "    1:'Versicolor',\n",
    "    2:'Virginica',\n",
    "})\n",
    "\n",
    "# Affichage\n",
    "display(my_dataframe)\n",
    "my_dataframe.info()\n"
   ]
  },
  {
   "cell_type": "markdown",
   "metadata": {},
   "source": [
    "### Distribution des labels selon une feature"
   ]
  },
  {
   "cell_type": "code",
   "execution_count": null,
   "metadata": {},
   "outputs": [],
   "source": [
    "display(pd.crosstab(my_dataframe[\"Longueur Pétale\"],my_dataframe[\"Nom Iris\"]))\n",
    "print(\"-\"*50)\n",
    "display(pd.crosstab(my_dataframe[\"Largeur Sépale\"],my_dataframe[\"Nom Iris\"]))\n"
   ]
  },
  {
   "cell_type": "markdown",
   "metadata": {},
   "source": [
    "### Information Mutuelle"
   ]
  },
  {
   "cell_type": "markdown",
   "metadata": {},
   "source": [
    "Identification des features discrets"
   ]
  },
  {
   "cell_type": "code",
   "execution_count": null,
   "metadata": {},
   "outputs": [],
   "source": [
    "# https://scikit-learn.org/stable/modules/generated/sklearn.feature_selection.mutual_info_regression.html\n",
    "\n",
    "\n",
    "studied_features = [\"Longueur Sépale (cm)\",\"Largeur Sépale (cm)\",\"Longueur Pétale\",\"Largeur Pétale\"]\n",
    "X = my_dataframe[studied_features].copy()\n",
    "for colname in X.columns:\n",
    "    if X[colname].dtypes=='category':\n",
    "        X[colname], _ = X[colname].factorize() # transforme des catégories en nombre entier\n",
    "    else:\n",
    "         X[colname].fillna(X[colname].mean(), inplace=True) # Si numérique, Remplacement des valeurs vides par la moyenne.\n",
    "\n",
    "discrete_features = X.dtypes == \"int64\" # \"Génère la liste indiquant features discrets ou continus\"\n",
    "print(\"discrete_features:\\n\",discrete_features)\n"
   ]
  },
  {
   "cell_type": "markdown",
   "metadata": {},
   "source": [
    "Calcul des scores d'information mutuelle"
   ]
  },
  {
   "cell_type": "code",
   "execution_count": null,
   "metadata": {},
   "outputs": [],
   "source": [
    "mi_scores = mutual_info_regression(\n",
    "    X,\n",
    "    my_dataframe['Type Iris'],\n",
    "    discrete_features = discrete_features\n",
    ")\n",
    "mi_scores = pd.Series(mi_scores, name=\"MI Scores\", index=X.columns)\n",
    "mi_scores = mi_scores.sort_values(ascending=False)\n",
    "mi_scores\n"
   ]
  },
  {
   "cell_type": "markdown",
   "metadata": {},
   "source": [
    "Visualisation de l'information mutuelle"
   ]
  },
  {
   "cell_type": "code",
   "execution_count": null,
   "metadata": {},
   "outputs": [],
   "source": [
    "scores = mi_scores.sort_values(ascending=True)\n",
    "width = np.arange(len(scores))\n",
    "ticks = list(scores.index)\n",
    "plt.barh(width, scores)\n",
    "plt.yticks(width, ticks)\n",
    "plt.title(\"Mutual Information Scores\")\n"
   ]
  },
  {
   "attachments": {},
   "cell_type": "markdown",
   "metadata": {},
   "source": [
    "## Filtrage des données"
   ]
  },
  {
   "cell_type": "code",
   "execution_count": null,
   "metadata": {},
   "outputs": [],
   "source": [
    "my_dataframe.boxplot(fontsize=12, figsize=(18,10))\n"
   ]
  },
  {
   "cell_type": "markdown",
   "metadata": {},
   "source": [
    "Exclusion des outliers"
   ]
  },
  {
   "cell_type": "code",
   "execution_count": null,
   "metadata": {},
   "outputs": [],
   "source": [
    "# filtered_dataframe\n",
    "exclusion_outliers = my_dataframe[\"Largeur Sépale (cm)\"].between(2.1,4)\n",
    "print(\"Total:\",len(exclusion_outliers), \"Conservés:\", exclusion_outliers.sum())\n",
    "filtered_dataframe =  my_dataframe[exclusion_outliers]\n",
    "filtered_dataframe.boxplot(fontsize=12, figsize=(18,10))\n"
   ]
  },
  {
   "attachments": {},
   "cell_type": "markdown",
   "metadata": {},
   "source": [
    "### Création d'un petit Dataframe avec des données manquantes dans \"Longueur Sépale\""
   ]
  },
  {
   "cell_type": "code",
   "execution_count": null,
   "metadata": {},
   "outputs": [],
   "source": [
    "# Sélection des Iris avec Longueur Sépale indéfinie\n",
    "small_df_na = my_dataframe[my_dataframe['Longueur Sépale (cm)'].isna()]\n",
    "\n",
    "# Sélection aléatoire de 20 Iris avec Longueur Sépale définie\n",
    "small_df_rnd = my_dataframe[~my_dataframe['Longueur Sépale (cm)'].isna()].sample(20, random_state=42)\n",
    "my_dataframe[my_dataframe['Longueur Sépale (cm)'].isna()]\n",
    "small_df = pd.concat([small_df_na,small_df_rnd]).sort_index()\n",
    "small_df\n"
   ]
  },
  {
   "attachments": {},
   "cell_type": "markdown",
   "metadata": {},
   "source": [
    "### Suppression des lignes avec des données manquantes"
   ]
  },
  {
   "cell_type": "code",
   "execution_count": null,
   "metadata": {},
   "outputs": [],
   "source": [
    "small_df[~small_df.isna().any(axis=1)]\n"
   ]
  },
  {
   "attachments": {},
   "cell_type": "markdown",
   "metadata": {},
   "source": [
    "### Suppression d'une colonne"
   ]
  },
  {
   "cell_type": "code",
   "execution_count": null,
   "metadata": {},
   "outputs": [],
   "source": [
    "small_df.drop('Longueur Sépale (cm)', axis=1)\n"
   ]
  },
  {
   "attachments": {},
   "cell_type": "markdown",
   "metadata": {},
   "source": [
    "### Remplacement par la moyenne"
   ]
  },
  {
   "cell_type": "code",
   "execution_count": null,
   "metadata": {},
   "outputs": [],
   "source": [
    "fulfilled_small_df=small_df.copy()\n",
    "fulfilled_small_df[\"Longueur Sépale (cm)\"].fillna(small_df[\"Longueur Sépale (cm)\"].mean(),inplace=True)\n",
    "fulfilled_small_df\n"
   ]
  },
  {
   "attachments": {},
   "cell_type": "markdown",
   "metadata": {},
   "source": [
    "## Gestion des données manquantes"
   ]
  },
  {
   "attachments": {},
   "cell_type": "markdown",
   "metadata": {},
   "source": [
    "### Interpolation linéaire"
   ]
  },
  {
   "attachments": {},
   "cell_type": "markdown",
   "metadata": {},
   "source": [
    "Régression linéaire entre Longueur Sépale et Longueur Pétale"
   ]
  },
  {
   "cell_type": "code",
   "execution_count": null,
   "metadata": {},
   "outputs": [],
   "source": [
    "# Création d'un filtre pour sélectionner les valeurs non nulles\n",
    "filter_not_nan = ~(small_df['Longueur Sépale (cm)'].isnull() | small_df['Longueur Pétale (cm)'].isnull())\n",
    "print(\"---- filter_not_nan -----\")\n",
    "display(filter_not_nan)\n",
    "\n",
    "# Création des deux variables X et y pour la régression\n",
    "# reshape permet de créer \"un tableau de tableau\" pour le fit, car la méthode attend un nombre quelconque d'entrées dans x.\n",
    "x = small_df.loc[filter_not_nan,'Longueur Pétale (cm)'].values.reshape(-1, 1)\n",
    "print(\"---- x -----\")\n",
    "display(x)\n",
    "y = small_df.loc[filter_not_nan,'Longueur Sépale (cm)']\n",
    "\n",
    "# Création, appretissage et inférence du modèle de régression\n",
    "model = LinearRegression()\n",
    "model.fit(x,y)\n",
    "y_predict = model.predict(x)\n",
    "\n",
    "# Visualisation\n",
    "plt.scatter(x, y)\n",
    "plt.plot(x, y_predict, color='g')\n",
    "plt.xlabel(\"Longueur Pétale (cm)\")\n",
    "plt.ylabel(\"Longueur Sépale (cm)\")\n",
    "plt.title(\"y=%.2fx + %.2f\" % (model.coef_, model.intercept_))\n",
    "plt.show()\n"
   ]
  },
  {
   "cell_type": "markdown",
   "metadata": {},
   "source": [
    "Création d'une interpolation pour les longueurs sépales manquante."
   ]
  },
  {
   "cell_type": "code",
   "execution_count": null,
   "metadata": {},
   "outputs": [],
   "source": [
    "x_reg = small_df.loc[small_df['Longueur Sépale (cm)'].isnull() ,'Longueur Pétale (cm)'].values.reshape(-1, 1)\n",
    "y_reg = model.predict(x_reg)\n",
    "y_reg\n"
   ]
  },
  {
   "attachments": {},
   "cell_type": "markdown",
   "metadata": {},
   "source": [
    "### Affichage des points calculé par régression linéaire"
   ]
  },
  {
   "cell_type": "code",
   "execution_count": null,
   "metadata": {},
   "outputs": [],
   "source": [
    "plt.scatter(x, y)\n",
    "plt.scatter(x_reg, y_reg, color='r')\n",
    "plt.plot(x, y_predict, color='g')\n",
    "plt.xlabel(\"Longueur Pétale (cm)\")\n",
    "plt.ylabel(\"Longueur Sépale (cm)\")\n",
    "plt.title(\"y=%.2fx + %.2f\" % (model.coef_, model.intercept_))\n",
    "plt.show()\n",
    "fulfilled_small_df.loc[small_df['Longueur Sépale (cm)'].isnull() ,'Longueur Sépale (cm)'] = y_reg\n",
    "fulfilled_small_df\n"
   ]
  },
  {
   "attachments": {},
   "cell_type": "markdown",
   "metadata": {},
   "source": [
    "## Créer des Features"
   ]
  },
  {
   "attachments": {},
   "cell_type": "markdown",
   "metadata": {},
   "source": [
    "### compter des conditions (nombre de grande dimension)"
   ]
  },
  {
   "cell_type": "code",
   "execution_count": null,
   "metadata": {},
   "outputs": [],
   "source": [
    "discrete_features = [\"Longueur Sépale\",\"Largeur Sépale\",\"Longueur Pétale\",\"Largeur Pétale\"]\n",
    "my_dataframe[\"nbGrand\"] = (my_dataframe[discrete_features]==\"grand\").sum(axis=1)\n",
    "display(my_dataframe.sample(5, random_state=42))\n",
    "display(pd.crosstab(my_dataframe[\"nbGrand\"],my_dataframe[\"Nom Iris\"]))\n"
   ]
  },
  {
   "attachments": {},
   "cell_type": "markdown",
   "metadata": {},
   "source": [
    "### Group & Transform : Ajouter la largeur moyenne de la pétale en fonction de sa catégorie de longueur"
   ]
  },
  {
   "cell_type": "code",
   "execution_count": null,
   "metadata": {},
   "outputs": [],
   "source": [
    "my_dataframe[\"Moy Largeur Pétale\"] = (\n",
    "    my_dataframe.groupby(\"Longueur Pétale\") # Pour chaque catégorie de longueur de pétale.\n",
    "    [\"Largeur Pétale (cm)\"]                 # Nous lisons la largeur de pétale...\n",
    "    .transform(\"mean\")                      # ...et nous calculons et ajoutons la moyenne\n",
    ")\n",
    "my_dataframe\n"
   ]
  },
  {
   "attachments": {},
   "cell_type": "markdown",
   "metadata": {},
   "source": [
    "## Target Encoding"
   ]
  },
  {
   "attachments": {},
   "cell_type": "markdown",
   "metadata": {},
   "source": [
    "#### Sans lissage"
   ]
  },
  {
   "cell_type": "code",
   "execution_count": null,
   "metadata": {},
   "outputs": [],
   "source": [
    "my_dataframe[\"Moy Type Iris\"] = (\n",
    "    my_dataframe.groupby(\"Longueur Pétale\")  # Pour chaque catégorie de longueur de pétale.\n",
    "    [\"Type Iris\"]                            # Nous lisons le label\n",
    "    .transform(\"mean\")                       #... et nous calculons et ajoutons la moyenne\n",
    ")\n",
    "my_dataframe\n"
   ]
  },
  {
   "attachments": {},
   "cell_type": "markdown",
   "metadata": {},
   "source": [
    "### Avec Lissage"
   ]
  },
  {
   "cell_type": "code",
   "execution_count": null,
   "metadata": {},
   "outputs": [],
   "source": [
    "# Facteur de lissage = 100\n",
    "coef = 150/(150 + 100)\n",
    "my_dataframe[\"Moy Type Iris\"] = coef * my_dataframe[\"Moy Type Iris\"] + (1-coef) * my_dataframe[\"Type Iris\"].mean()\n",
    "my_dataframe[\"Moy Type Iris\"]\n",
    "my_dataframe\n"
   ]
  }
 ],
 "metadata": {
  "kernelspec": {
   "display_name": "Python 3",
   "language": "python",
   "name": "python3"
  },
  "language_info": {
   "codemirror_mode": {
    "name": "ipython",
    "version": 3
   },
   "file_extension": ".py",
   "mimetype": "text/x-python",
   "name": "python",
   "nbconvert_exporter": "python",
   "pygments_lexer": "ipython3",
   "version": "3.11.2"
  },
  "metadata": {
   "interpreter": {
    "hash": "8a7f431efea175097450e475ba2074c6e83edf516fa688f7dc4e8ab4342121c4"
   }
  },
  "vscode": {
   "interpreter": {
    "hash": "f7976576504ac6c456dadd405d7477574ca2a64265ee4724cfbc25daae5f6d94"
   }
  }
 },
 "nbformat": 4,
 "nbformat_minor": 4
}
