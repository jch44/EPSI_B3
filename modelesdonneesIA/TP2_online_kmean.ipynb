{
 "cells": [
  {
   "cell_type": "markdown",
   "metadata": {},
   "source": [
    "# Clustering et PCA Online"
   ]
  },
  {
   "cell_type": "code",
   "execution_count": null,
   "metadata": {},
   "outputs": [],
   "source": [
    "import numpy as np\n",
    "import pandas as pd\n",
    "# Affichage complet des dataframes\n",
    "pd.set_option('display.max_columns',100)\n",
    "pd.set_option('display.max_rows',1000)\n",
    "\n",
    "# Librairie graphique plotly, plus utile que matplotlib pour visualiser des données en 3D.\n",
    "# Exemples d'utilisation :\n",
    "# EPSI_B3_2024\\modelesdonneesIA\\ex1_dim_kmean_iris.ipynb\n",
    "# https://plot.ly/python/3d-scatter-plots/\n",
    "\n",
    "import plotly.graph_objs as go\n"
   ]
  },
  {
   "cell_type": "markdown",
   "metadata": {},
   "source": [
    "## Data Preparation"
   ]
  },
  {
   "cell_type": "code",
   "execution_count": null,
   "metadata": {},
   "outputs": [],
   "source": [
    "df=pd.read_csv(\"data/players_fifa22.csv\")\n",
    "df.head(3)"
   ]
  },
  {
   "cell_type": "markdown",
   "metadata": {},
   "source": [
    "##  Minibatch Clustering + ACP 2D"
   ]
  },
  {
   "cell_type": "markdown",
   "metadata": {},
   "source": [
    "1.1 Réaliser un traitement \"online\" afin de réaliser un clustering et une PCA 2D par lot de 200 joueurs. <br>\n",
    "Pour chaque itération, afficher la projection 2D de tous les joueurs traités."
   ]
  },
  {
   "cell_type": "markdown",
   "metadata": {},
   "source": [
    "##  Minibatch Clustering + ACP 3D"
   ]
  },
  {
   "cell_type": "markdown",
   "metadata": {},
   "source": [
    "1.2 Réaliser un traitement \"online\" afin de réaliser un clustering et une PCA 3D par lot de 200 joueurs. <br>\n",
    "Pour chaque itération, afficher la projection 3D de tous les joueurs traités."
   ]
  }
 ],
 "metadata": {
  "kernelspec": {
   "display_name": "Python 3",
   "language": "python",
   "name": "python3"
  },
  "language_info": {
   "codemirror_mode": {
    "name": "ipython",
    "version": 3
   },
   "file_extension": ".py",
   "mimetype": "text/x-python",
   "name": "python",
   "nbconvert_exporter": "python",
   "pygments_lexer": "ipython3",
   "version": "3.12.4"
  }
 },
 "nbformat": 4,
 "nbformat_minor": 2
}
